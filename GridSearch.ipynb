{
 "cells": [
  {
   "cell_type": "markdown",
   "metadata": {
    "cell_id": "00000-754d898b-913a-47a8-8fd9-d0b2df3a1295",
    "deepnote_cell_type": "markdown",
    "tags": []
   },
   "source": [
    "## Grid search to find best hyperparameters"
   ]
  },
  {
   "cell_type": "code",
   "execution_count": 8,
   "metadata": {
    "cell_id": "00001-d026b8ae-f325-4894-bdf7-0600b028db88",
    "deepnote_cell_type": "code",
    "deepnote_to_be_reexecuted": false,
    "execution_millis": 298,
    "execution_start": 1620208805270,
    "source_hash": "bbe6da27",
    "tags": []
   },
   "outputs": [],
   "source": [
    "import os\n",
    "import numpy as np\n",
    "import pandas as pd\n",
    "import warnings\n",
    "warnings.filterwarnings(\"ignore\")\n",
    "import matplotlib.pyplot as plt\n",
    "%matplotlib inline"
   ]
  },
  {
   "cell_type": "code",
   "execution_count": 9,
   "metadata": {
    "cell_id": "00001-13c4a2af-83bf-476e-bb8f-591828f28d25",
    "deepnote_cell_type": "code",
    "deepnote_to_be_reexecuted": false,
    "execution_millis": 1166,
    "execution_start": 1620208805614,
    "source_hash": "fc33ac89",
    "tags": []
   },
   "outputs": [],
   "source": [
    "# Loading data\n",
    "path = '.'\n",
    "def load_dataset():\n",
    "    csv_path= os.path.join(path,'diabetes.csv')\n",
    "    return pd.read_csv(csv_path)\n",
    "dataset = load_dataset()\n",
    "\n",
    "# Imputation with median strategy\n",
    "from sklearn.impute import SimpleImputer\n",
    "imputer_median = SimpleImputer(missing_values = 0, strategy = 'median')\n",
    "dataset.iloc[:,1:6] = pd.DataFrame(imputer_median.fit_transform(dataset.values[:, 1:6]), # ['Glucose', 'BloodPressure', 'SkinThickness', 'Insulin', 'BMI']\n",
    "                               columns=dataset.columns.values[1:6])\n",
    "\n",
    "# Create features and labels \n",
    "features = dataset.drop(['Outcome'], axis=1)\n",
    "labels = dataset['Outcome']\n",
    "\n",
    "# Create training and test set \n",
    "from sklearn.model_selection import train_test_split\n",
    "features_train, features_test, labels_train, labels_test = train_test_split(features, labels, test_size=0.25, random_state=123)\n",
    "\n",
    "# Data up-sampling\n",
    "from sklearn.utils import resample\n",
    "\n",
    "df = pd.concat([features_train,labels_train],axis=1)\n",
    "df.rename(columns={'Outcome':'balance'}, inplace=True)\n",
    "\n",
    "# Separate majority (n=367) and minority (n=209) classes\n",
    "df_majority = df[df['balance']==0] \n",
    "df_minority = df[df['balance']==1]\n",
    "\n",
    "# Upsample samples with replacement for minority class\n",
    "df_minority_upsampled = resample(df_minority,\n",
    "                                 replace=True, # sample with replacement\n",
    "                                 n_samples=381, # to match majority class\n",
    "                                 random_state=123) # reproducible results\n",
    "df_upsampled = pd.concat([df_majority, df_minority_upsampled])\n",
    "df_upsampled.balance.value_counts()\n",
    "\n",
    "# re-preparing the training sets\n",
    "features_train = df_upsampled.drop(['balance'], axis=1)\n",
    "labels_train = df_upsampled[['balance']]\n",
    "labels_train.rename(columns={'balance':'Outcome'}, inplace=True)\n",
    "\n",
    "# Implement scaling using standardiation\n",
    "from sklearn.preprocessing import StandardScaler\n",
    "standardScaler = StandardScaler()\n",
    "features_train_std = standardScaler.fit_transform(features_train)\n",
    "features_test_std = standardScaler.transform(features_test)"
   ]
  },
  {
   "cell_type": "markdown",
   "metadata": {
    "cell_id": "00002-62a90765-7c07-4970-be82-656ff3476327",
    "deepnote_cell_type": "markdown",
    "deepnote_to_be_reexecuted": false,
    "execution_millis": 11,
    "execution_start": 1620208806784,
    "source_hash": "a1124f05",
    "tags": []
   },
   "source": [
    "> Comparision to original knn algorithm\n",
    "```\n",
    "# implement kNN algorithm\n",
    "from sklearn.neighbors import KNeighborsClassifier\n",
    "classifier = KNeighborsClassifier(n_neighbors=7)\n",
    "# Fit data or train data\n",
    "classifier.fit(features_train_std, labels_train)\n",
    "# Predicting with classifier\n",
    "pred = classifier.predict(features_test_std)\n",
    "```"
   ]
  },
  {
   "cell_type": "code",
   "execution_count": 3,
   "metadata": {
    "cell_id": "00003-821d9ea3-f953-43f4-b919-947b1d75c1a1",
    "deepnote_cell_type": "code",
    "deepnote_to_be_reexecuted": false,
    "execution_millis": 2665,
    "execution_start": 1620208806801,
    "source_hash": "bc7a5df",
    "tags": []
   },
   "outputs": [
    {
     "name": "stdout",
     "output_type": "stream",
     "text": [
      "Fitting 3 folds for each of 36 candidates, totalling 108 fits\n"
     ]
    },
    {
     "name": "stderr",
     "output_type": "stream",
     "text": [
      "[Parallel(n_jobs=-1)]: Using backend LokyBackend with 16 concurrent workers.\n",
      "[Parallel(n_jobs=-1)]: Done  18 tasks      | elapsed:    4.6s\n",
      "[Parallel(n_jobs=-1)]: Done 108 out of 108 | elapsed:    6.4s finished\n"
     ]
    }
   ],
   "source": [
    "from sklearn.neighbors import KNeighborsClassifier\n",
    "from sklearn.model_selection import GridSearchCV\n",
    "grid_params = {'n_neighbors' : [3,5,7,9,11,13,15,17,19], 'weights' : ['uniform', 'distance'], 'metric' : ['euclidian', 'manhattan']}\n",
    "gs=GridSearchCV(KNeighborsClassifier(),grid_params,verbose=1,cv=3,n_jobs=-1)\n",
    "gs_results=gs.fit(features_train_std, labels_train)\n"
   ]
  },
  {
   "cell_type": "code",
   "execution_count": 4,
   "metadata": {
    "cell_id": "00004-ab41b601-543b-494f-9545-bf85e2399942",
    "deepnote_cell_type": "code",
    "deepnote_to_be_reexecuted": false,
    "execution_millis": 22,
    "execution_start": 1620208809478,
    "source_hash": "dce97b29",
    "tags": []
   },
   "outputs": [
    {
     "data": {
      "text/plain": [
       "0.8241469816272966"
      ]
     },
     "execution_count": 4,
     "metadata": {},
     "output_type": "execute_result"
    }
   ],
   "source": [
    "gs_results.best_score_"
   ]
  },
  {
   "cell_type": "code",
   "execution_count": 5,
   "metadata": {
    "cell_id": "00005-4a8ac82f-3a4e-4ad2-8358-9d61560671e0",
    "deepnote_cell_type": "code",
    "deepnote_to_be_reexecuted": false,
    "execution_millis": 21,
    "execution_start": 1620208809479,
    "source_hash": "a9b14801",
    "tags": []
   },
   "outputs": [
    {
     "data": {
      "text/plain": [
       "KNeighborsClassifier(metric='manhattan', n_neighbors=15, weights='distance')"
      ]
     },
     "execution_count": 5,
     "metadata": {},
     "output_type": "execute_result"
    }
   ],
   "source": [
    "gs_results.best_estimator_"
   ]
  },
  {
   "cell_type": "code",
   "execution_count": 6,
   "metadata": {
    "cell_id": "00006-acfa38de-7bee-475c-b008-c18e8489cc41",
    "deepnote_cell_type": "code",
    "deepnote_to_be_reexecuted": false,
    "execution_millis": 14,
    "execution_start": 1620208809489,
    "source_hash": "eb797eda",
    "tags": []
   },
   "outputs": [
    {
     "data": {
      "text/plain": [
       "{'metric': 'manhattan', 'n_neighbors': 15, 'weights': 'distance'}"
      ]
     },
     "execution_count": 6,
     "metadata": {},
     "output_type": "execute_result"
    }
   ],
   "source": [
    "gs_results.best_params_"
   ]
  },
  {
   "cell_type": "code",
   "execution_count": 7,
   "metadata": {
    "cell_id": "00007-5c0d37af-f213-4386-8eff-2f75dcb9ecf6",
    "deepnote_cell_type": "code",
    "deepnote_to_be_reexecuted": false,
    "execution_millis": 4,
    "execution_start": 1620208809531,
    "source_hash": "1a5f9528",
    "tags": []
   },
   "outputs": [
    {
     "data": {
      "text/plain": [
       "dict_keys(['cv', 'error_score', 'estimator__algorithm', 'estimator__leaf_size', 'estimator__metric', 'estimator__metric_params', 'estimator__n_jobs', 'estimator__n_neighbors', 'estimator__p', 'estimator__weights', 'estimator', 'iid', 'n_jobs', 'param_grid', 'pre_dispatch', 'refit', 'return_train_score', 'scoring', 'verbose'])"
      ]
     },
     "execution_count": 7,
     "metadata": {},
     "output_type": "execute_result"
    }
   ],
   "source": [
    "GridSearchCV.get_params(gs).keys()"
   ]
  },
  {
   "cell_type": "code",
   "execution_count": null,
   "metadata": {},
   "outputs": [],
   "source": []
  }
 ],
 "metadata": {
  "deepnote": {},
  "deepnote_execution_queue": [],
  "deepnote_notebook_id": "dcaa7bf7-c99f-4bd1-a702-ab484f45748b",
  "kernelspec": {
   "display_name": "Python 3",
   "language": "python",
   "name": "python3"
  },
  "language_info": {
   "codemirror_mode": {
    "name": "ipython",
    "version": 3
   },
   "file_extension": ".py",
   "mimetype": "text/x-python",
   "name": "python",
   "nbconvert_exporter": "python",
   "pygments_lexer": "ipython3",
   "version": "3.8.10"
  },
  "varInspector": {
   "cols": {
    "lenName": 16,
    "lenType": 16,
    "lenVar": 40
   },
   "kernels_config": {
    "python": {
     "delete_cmd_postfix": "",
     "delete_cmd_prefix": "del ",
     "library": "var_list.py",
     "varRefreshCmd": "print(var_dic_list())"
    },
    "r": {
     "delete_cmd_postfix": ") ",
     "delete_cmd_prefix": "rm(",
     "library": "var_list.r",
     "varRefreshCmd": "cat(var_dic_list()) "
    }
   },
   "types_to_exclude": [
    "module",
    "function",
    "builtin_function_or_method",
    "instance",
    "_Feature"
   ],
   "window_display": false
  }
 },
 "nbformat": 4,
 "nbformat_minor": 4
}
