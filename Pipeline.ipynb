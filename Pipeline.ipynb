{
 "cells": [
  {
   "cell_type": "code",
   "execution_count": 1,
   "metadata": {},
   "outputs": [],
   "source": [
    "import os\n",
    "import numpy as np \n",
    "import pandas as pd \n",
    "import seaborn as sns\n",
    "import matplotlib.pyplot as plt \n",
    "\n",
    "from sklearn.preprocessing import StandardScaler\n",
    "from sklearn.impute import SimpleImputer\n",
    "from sklearn.pipeline import make_pipeline \n",
    "from sklearn.feature_selection import SelectKBest, f_regression \n",
    "from sklearn.model_selection import train_test_split, GridSearchCV\n",
    "\n",
    "from sklearn.neighbors import KNeighborsClassifier\n",
    "from sklearn.linear_model import LogisticRegression\n",
    "\n",
    "import warnings\n",
    "warnings.filterwarnings(\"ignore\")"
   ]
  },
  {
   "cell_type": "code",
   "execution_count": null,
   "metadata": {
    "pycharm": {
     "name": "#%%\n"
    }
   },
   "outputs": [],
   "source": [
    "def load_dataset():\n",
    "    csv_path= os.path.join(path,'diabetes.csv')\n",
    "    return pd.read_csv(csv_path)"
   ]
  },
  {
   "cell_type": "code",
   "execution_count": 3,
   "metadata": {},
   "outputs": [
    {
     "name": "stdout",
     "output_type": "stream",
     "text": [
      "<class 'pandas.core.frame.DataFrame'>\n",
      "RangeIndex: 768 entries, 0 to 767\n",
      "Data columns (total 9 columns):\n",
      " #   Column                    Non-Null Count  Dtype  \n",
      "---  ------                    --------------  -----  \n",
      " 0   Pregnancies               768 non-null    int64  \n",
      " 1   Glucose                   768 non-null    int64  \n",
      " 2   BloodPressure             768 non-null    int64  \n",
      " 3   SkinThickness             768 non-null    int64  \n",
      " 4   Insulin                   768 non-null    int64  \n",
      " 5   BMI                       768 non-null    float64\n",
      " 6   DiabetesPedigreeFunction  768 non-null    float64\n",
      " 7   Age                       768 non-null    int64  \n",
      " 8   Outcome                   768 non-null    int64  \n",
      "dtypes: float64(2), int64(7)\n",
      "memory usage: 54.1 KB\n"
     ]
    }
   ],
   "source": [
    "#loading dataset \n",
    "path = '.'\n",
    "dataset = load_dataset()\n",
    "#looking at dataset\n",
    "dataset.info()"
   ]
  },
  {
   "cell_type": "code",
   "execution_count": 4,
   "metadata": {},
   "outputs": [
    {
     "data": {
      "text/html": [
       "<div>\n",
       "<style scoped>\n",
       "    .dataframe tbody tr th:only-of-type {\n",
       "        vertical-align: middle;\n",
       "    }\n",
       "\n",
       "    .dataframe tbody tr th {\n",
       "        vertical-align: top;\n",
       "    }\n",
       "\n",
       "    .dataframe thead th {\n",
       "        text-align: right;\n",
       "    }\n",
       "</style>\n",
       "<table border=\"1\" class=\"dataframe\">\n",
       "  <thead>\n",
       "    <tr style=\"text-align: right;\">\n",
       "      <th></th>\n",
       "      <th>Pregnancies</th>\n",
       "      <th>Glucose</th>\n",
       "      <th>BloodPressure</th>\n",
       "      <th>SkinThickness</th>\n",
       "      <th>Insulin</th>\n",
       "      <th>BMI</th>\n",
       "      <th>DiabetesPedigreeFunction</th>\n",
       "      <th>Age</th>\n",
       "      <th>Outcome</th>\n",
       "    </tr>\n",
       "  </thead>\n",
       "  <tbody>\n",
       "    <tr>\n",
       "      <th>0</th>\n",
       "      <td>6</td>\n",
       "      <td>148</td>\n",
       "      <td>72</td>\n",
       "      <td>35</td>\n",
       "      <td>0</td>\n",
       "      <td>33.6</td>\n",
       "      <td>0.627</td>\n",
       "      <td>50</td>\n",
       "      <td>1</td>\n",
       "    </tr>\n",
       "    <tr>\n",
       "      <th>1</th>\n",
       "      <td>1</td>\n",
       "      <td>85</td>\n",
       "      <td>66</td>\n",
       "      <td>29</td>\n",
       "      <td>0</td>\n",
       "      <td>26.6</td>\n",
       "      <td>0.351</td>\n",
       "      <td>31</td>\n",
       "      <td>0</td>\n",
       "    </tr>\n",
       "    <tr>\n",
       "      <th>2</th>\n",
       "      <td>8</td>\n",
       "      <td>183</td>\n",
       "      <td>64</td>\n",
       "      <td>0</td>\n",
       "      <td>0</td>\n",
       "      <td>23.3</td>\n",
       "      <td>0.672</td>\n",
       "      <td>32</td>\n",
       "      <td>1</td>\n",
       "    </tr>\n",
       "    <tr>\n",
       "      <th>3</th>\n",
       "      <td>1</td>\n",
       "      <td>89</td>\n",
       "      <td>66</td>\n",
       "      <td>23</td>\n",
       "      <td>94</td>\n",
       "      <td>28.1</td>\n",
       "      <td>0.167</td>\n",
       "      <td>21</td>\n",
       "      <td>0</td>\n",
       "    </tr>\n",
       "    <tr>\n",
       "      <th>4</th>\n",
       "      <td>0</td>\n",
       "      <td>137</td>\n",
       "      <td>40</td>\n",
       "      <td>35</td>\n",
       "      <td>168</td>\n",
       "      <td>43.1</td>\n",
       "      <td>2.288</td>\n",
       "      <td>33</td>\n",
       "      <td>1</td>\n",
       "    </tr>\n",
       "  </tbody>\n",
       "</table>\n",
       "</div>"
      ],
      "text/plain": [
       "   Pregnancies  Glucose  BloodPressure  SkinThickness  Insulin   BMI  \\\n",
       "0            6      148             72             35        0  33.6   \n",
       "1            1       85             66             29        0  26.6   \n",
       "2            8      183             64              0        0  23.3   \n",
       "3            1       89             66             23       94  28.1   \n",
       "4            0      137             40             35      168  43.1   \n",
       "\n",
       "   DiabetesPedigreeFunction  Age  Outcome  \n",
       "0                     0.627   50        1  \n",
       "1                     0.351   31        0  \n",
       "2                     0.672   32        1  \n",
       "3                     0.167   21        0  \n",
       "4                     2.288   33        1  "
      ]
     },
     "execution_count": 4,
     "metadata": {},
     "output_type": "execute_result"
    }
   ],
   "source": [
    "dataset.head(5)"
   ]
  },
  {
   "cell_type": "code",
   "execution_count": 5,
   "metadata": {
    "scrolled": false
   },
   "outputs": [
    {
     "data": {
      "image/png": "[encoded data removed]",
      "text/plain": [
       "<Figure size 864x648 with 9 Axes>"
      ]
     },
     "metadata": {
      "needs_background": "light"
     },
     "output_type": "display_data"
    }
   ],
   "source": [
    "#Plotting data\n",
    "dataset.hist(bins=50, figsize = (12,9))\n",
    "plt.show()"
   ]
  },
  {
   "cell_type": "markdown",
   "metadata": {},
   "source": [
    "### Preprocessing Data"
   ]
  },
  {
   "cell_type": "code",
   "execution_count": 6,
   "metadata": {
    "scrolled": true
   },
   "outputs": [
    {
     "data": {
      "text/plain": [
       "Pregnancies                 False\n",
       "Glucose                     False\n",
       "BloodPressure               False\n",
       "SkinThickness               False\n",
       "Insulin                     False\n",
       "BMI                         False\n",
       "DiabetesPedigreeFunction    False\n",
       "Age                         False\n",
       "Outcome                     False\n",
       "dtype: bool"
      ]
     },
     "execution_count": 6,
     "metadata": {},
     "output_type": "execute_result"
    }
   ],
   "source": [
    "# Looking at missing values\n",
    "dataset.isna().any()"
   ]
  },
  {
   "cell_type": "code",
   "execution_count": 7,
   "metadata": {},
   "outputs": [],
   "source": [
    "## looking at missing values\n",
    "# Imputation with median strategy\n",
    "imputer_median = SimpleImputer(missing_values = 0, strategy = 'median')\n",
    "dataset.iloc[:,1:6] = pd.DataFrame(imputer_median.fit_transform(dataset.values[:, 1:6]), # ['Glucose', 'BloodPressure', 'SkinThickness', 'Insulin', 'BMI']\n",
    "                               columns=dataset.columns.values[1:6])"
   ]
  },
  {
   "cell_type": "code",
   "execution_count": 8,
   "metadata": {},
   "outputs": [],
   "source": [
    "## Looking at multicollinearity\n",
    "# no nominal variable"
   ]
  },
  {
   "cell_type": "code",
   "execution_count": 9,
   "metadata": {},
   "outputs": [
    {
     "data": {
      "text/html": [
       "<div>\n",
       "<style scoped>\n",
       "    .dataframe tbody tr th:only-of-type {\n",
       "        vertical-align: middle;\n",
       "    }\n",
       "\n",
       "    .dataframe tbody tr th {\n",
       "        vertical-align: top;\n",
       "    }\n",
       "\n",
       "    .dataframe thead th {\n",
       "        text-align: right;\n",
       "    }\n",
       "</style>\n",
       "<table border=\"1\" class=\"dataframe\">\n",
       "  <thead>\n",
       "    <tr style=\"text-align: right;\">\n",
       "      <th></th>\n",
       "      <th>Pregnancies</th>\n",
       "      <th>Glucose</th>\n",
       "      <th>BloodPressure</th>\n",
       "      <th>SkinThickness</th>\n",
       "      <th>Insulin</th>\n",
       "      <th>BMI</th>\n",
       "      <th>DiabetesPedigreeFunction</th>\n",
       "      <th>Age</th>\n",
       "    </tr>\n",
       "  </thead>\n",
       "  <tbody>\n",
       "    <tr>\n",
       "      <th>555</th>\n",
       "      <td>7</td>\n",
       "      <td>124.0</td>\n",
       "      <td>70.0</td>\n",
       "      <td>33.0</td>\n",
       "      <td>215.0</td>\n",
       "      <td>25.5</td>\n",
       "      <td>0.161</td>\n",
       "      <td>37</td>\n",
       "    </tr>\n",
       "    <tr>\n",
       "      <th>751</th>\n",
       "      <td>1</td>\n",
       "      <td>121.0</td>\n",
       "      <td>78.0</td>\n",
       "      <td>39.0</td>\n",
       "      <td>74.0</td>\n",
       "      <td>39.0</td>\n",
       "      <td>0.261</td>\n",
       "      <td>28</td>\n",
       "    </tr>\n",
       "  </tbody>\n",
       "</table>\n",
       "</div>"
      ],
      "text/plain": [
       "     Pregnancies  Glucose  BloodPressure  SkinThickness  Insulin   BMI  \\\n",
       "555            7    124.0           70.0           33.0    215.0  25.5   \n",
       "751            1    121.0           78.0           39.0     74.0  39.0   \n",
       "\n",
       "     DiabetesPedigreeFunction  Age  \n",
       "555                     0.161   37  \n",
       "751                     0.261   28  "
      ]
     },
     "execution_count": 9,
     "metadata": {},
     "output_type": "execute_result"
    }
   ],
   "source": [
    "#Split data into training and test sets \n",
    "features = dataset.drop(['Outcome'], axis=1) \n",
    "labels = dataset['Outcome']\n",
    "features_train, features_test, labels_train, labels_test=train_test_split(features, labels, test_size=0.25)\n",
    "#taking a quick look at the newly created training set \n",
    "features_train.head(2)"
   ]
  },
  {
   "cell_type": "markdown",
   "metadata": {},
   "source": [
    "### Perform pipeline - kNN"
   ]
  },
  {
   "cell_type": "markdown",
   "metadata": {},
   "source": [
    "#### Run pipeling"
   ]
  },
  {
   "cell_type": "code",
   "execution_count": 10,
   "metadata": {},
   "outputs": [],
   "source": [
    "#Setting up a pipeline\n",
    "pipe=make_pipeline(StandardScaler(),SelectKBest(f_regression) ,KNeighborsClassifier())"
   ]
  },
  {
   "cell_type": "code",
   "execution_count": 11,
   "metadata": {},
   "outputs": [
    {
     "data": {
      "text/plain": [
       "dict_keys(['memory', 'steps', 'verbose', 'standardscaler', 'selectkbest', 'kneighborsclassifier', 'standardscaler__copy', 'standardscaler__with_mean', 'standardscaler__with_std', 'selectkbest__k', 'selectkbest__score_func', 'kneighborsclassifier__algorithm', 'kneighborsclassifier__leaf_size', 'kneighborsclassifier__metric', 'kneighborsclassifier__metric_params', 'kneighborsclassifier__n_jobs', 'kneighborsclassifier__n_neighbors', 'kneighborsclassifier__p', 'kneighborsclassifier__weights'])"
      ]
     },
     "execution_count": 11,
     "metadata": {},
     "output_type": "execute_result"
    }
   ],
   "source": [
    "#Looking up parameters that can be passed to the pipeline \n",
    "pipe.get_params().keys()"
   ]
  },
  {
   "cell_type": "code",
   "execution_count": 12,
   "metadata": {
    "scrolled": false
   },
   "outputs": [
    {
     "name": "stdout",
     "output_type": "stream",
     "text": [
      "Fitting 5 folds for each of 216 candidates, totalling 1080 fits\n"
     ]
    },
    {
     "name": "stderr",
     "output_type": "stream",
     "text": [
      "[Parallel(n_jobs=-1)]: Using backend LokyBackend with 16 concurrent workers.\n",
      "[Parallel(n_jobs=-1)]: Done  18 tasks      | elapsed:    6.9s\n",
      "[Parallel(n_jobs=-1)]: Done 353 tasks      | elapsed:    9.2s\n",
      "[Parallel(n_jobs=-1)]: Done 1049 out of 1080 | elapsed:   11.7s remaining:    0.2s\n",
      "[Parallel(n_jobs=-1)]: Done 1080 out of 1080 | elapsed:   11.8s finished\n"
     ]
    },
    {
     "data": {
      "text/plain": [
       "GridSearchCV(cv=5,\n",
       "             estimator=Pipeline(steps=[('standardscaler', StandardScaler()),\n",
       "                                       ('selectkbest',\n",
       "                                        SelectKBest(score_func=<function f_regression at 0x0000015BECD93DC0>)),\n",
       "                                       ('kneighborsclassifier',\n",
       "                                        KNeighborsClassifier())]),\n",
       "             n_jobs=-1,\n",
       "             param_grid={'kneighborsclassifier__metric': ['euclidian',\n",
       "                                                          'manhattan'],\n",
       "                         'kneighborsclassifier__n_neighbors': [3, 5, 7, 9, 11,\n",
       "                                                               13, 15, 17, 19],\n",
       "                         'kneighborsclassifier__weights': ['uniform',\n",
       "                                                           'distance'],\n",
       "                         'selectkbest__k': [1, 2, 3, 4, 5, 6]},\n",
       "             verbose=1)"
      ]
     },
     "execution_count": 12,
     "metadata": {},
     "output_type": "execute_result"
    }
   ],
   "source": [
    "#putting together a parameter grid to search over using grid search\n",
    "params={'selectkbest__k':[1,2,3,4,5,6], \n",
    "        'kneighborsclassifier__n_neighbors' : [3,5,7,9,11,13,15,17,19], \n",
    "        'kneighborsclassifier__weights' : ['uniform', 'distance'], \n",
    "        'kneighborsclassifier__metric' : ['euclidian', 'manhattan']}\n",
    "#setting up the grid search \n",
    "gs=GridSearchCV(pipe,params,verbose=1,n_jobs=-1,cv=5)\n",
    "#fitting gs to training data \n",
    "gs.fit(features_train, labels_train)"
   ]
  },
  {
   "cell_type": "markdown",
   "metadata": {},
   "source": [
    "#### perform cross-validation"
   ]
  },
  {
   "cell_type": "code",
   "execution_count": 13,
   "metadata": {},
   "outputs": [
    {
     "data": {
      "text/html": [
       "<div>\n",
       "<style scoped>\n",
       "    .dataframe tbody tr th:only-of-type {\n",
       "        vertical-align: middle;\n",
       "    }\n",
       "\n",
       "    .dataframe tbody tr th {\n",
       "        vertical-align: top;\n",
       "    }\n",
       "\n",
       "    .dataframe thead th {\n",
       "        text-align: right;\n",
       "    }\n",
       "</style>\n",
       "<table border=\"1\" class=\"dataframe\">\n",
       "  <thead>\n",
       "    <tr style=\"text-align: right;\">\n",
       "      <th></th>\n",
       "      <th>params</th>\n",
       "      <th>split0_test_score</th>\n",
       "      <th>split1_test_score</th>\n",
       "      <th>split2_test_score</th>\n",
       "      <th>split3_test_score</th>\n",
       "      <th>split4_test_score</th>\n",
       "      <th>mean_test_score</th>\n",
       "      <th>std_test_score</th>\n",
       "      <th>rank_test_score</th>\n",
       "    </tr>\n",
       "  </thead>\n",
       "  <tbody>\n",
       "    <tr>\n",
       "      <th>214</th>\n",
       "      <td>{'kneighborsclassifier__metric': 'manhattan', ...</td>\n",
       "      <td>0.784483</td>\n",
       "      <td>0.765217</td>\n",
       "      <td>0.730435</td>\n",
       "      <td>0.791304</td>\n",
       "      <td>0.713043</td>\n",
       "      <td>0.756897</td>\n",
       "      <td>0.030455</td>\n",
       "      <td>1</td>\n",
       "    </tr>\n",
       "    <tr>\n",
       "      <th>197</th>\n",
       "      <td>{'kneighborsclassifier__metric': 'manhattan', ...</td>\n",
       "      <td>0.724138</td>\n",
       "      <td>0.765217</td>\n",
       "      <td>0.739130</td>\n",
       "      <td>0.791304</td>\n",
       "      <td>0.756522</td>\n",
       "      <td>0.755262</td>\n",
       "      <td>0.022929</td>\n",
       "      <td>2</td>\n",
       "    </tr>\n",
       "    <tr>\n",
       "      <th>209</th>\n",
       "      <td>{'kneighborsclassifier__metric': 'manhattan', ...</td>\n",
       "      <td>0.741379</td>\n",
       "      <td>0.747826</td>\n",
       "      <td>0.730435</td>\n",
       "      <td>0.782609</td>\n",
       "      <td>0.773913</td>\n",
       "      <td>0.755232</td>\n",
       "      <td>0.019800</td>\n",
       "      <td>3</td>\n",
       "    </tr>\n",
       "    <tr>\n",
       "      <th>135</th>\n",
       "      <td>{'kneighborsclassifier__metric': 'manhattan', ...</td>\n",
       "      <td>0.758621</td>\n",
       "      <td>0.800000</td>\n",
       "      <td>0.721739</td>\n",
       "      <td>0.756522</td>\n",
       "      <td>0.739130</td>\n",
       "      <td>0.755202</td>\n",
       "      <td>0.026070</td>\n",
       "      <td>4</td>\n",
       "    </tr>\n",
       "    <tr>\n",
       "      <th>208</th>\n",
       "      <td>{'kneighborsclassifier__metric': 'manhattan', ...</td>\n",
       "      <td>0.775862</td>\n",
       "      <td>0.756522</td>\n",
       "      <td>0.721739</td>\n",
       "      <td>0.782609</td>\n",
       "      <td>0.739130</td>\n",
       "      <td>0.755172</td>\n",
       "      <td>0.022618</td>\n",
       "      <td>5</td>\n",
       "    </tr>\n",
       "  </tbody>\n",
       "</table>\n",
       "</div>"
      ],
      "text/plain": [
       "                                                params  split0_test_score  \\\n",
       "214  {'kneighborsclassifier__metric': 'manhattan', ...           0.784483   \n",
       "197  {'kneighborsclassifier__metric': 'manhattan', ...           0.724138   \n",
       "209  {'kneighborsclassifier__metric': 'manhattan', ...           0.741379   \n",
       "135  {'kneighborsclassifier__metric': 'manhattan', ...           0.758621   \n",
       "208  {'kneighborsclassifier__metric': 'manhattan', ...           0.775862   \n",
       "\n",
       "     split1_test_score  split2_test_score  split3_test_score  \\\n",
       "214           0.765217           0.730435           0.791304   \n",
       "197           0.765217           0.739130           0.791304   \n",
       "209           0.747826           0.730435           0.782609   \n",
       "135           0.800000           0.721739           0.756522   \n",
       "208           0.756522           0.721739           0.782609   \n",
       "\n",
       "     split4_test_score  mean_test_score  std_test_score  rank_test_score  \n",
       "214           0.713043         0.756897        0.030455                1  \n",
       "197           0.756522         0.755262        0.022929                2  \n",
       "209           0.773913         0.755232        0.019800                3  \n",
       "135           0.739130         0.755202        0.026070                4  \n",
       "208           0.739130         0.755172        0.022618                5  "
      ]
     },
     "execution_count": 13,
     "metadata": {},
     "output_type": "execute_result"
    }
   ],
   "source": [
    "#building a dataframe from cross-validation data \n",
    "df_cv_scores=pd.DataFrame(gs.cv_results_).sort_values(by='rank_test_score')\n",
    "#selecting specific columns to create a view \n",
    "df_cv_scores[['params','split0_test_score', \n",
    "              'split1_test_score', 'split2_test_score',\n",
    "              'split3_test_score', 'split4_test_score',\n",
    "              'mean_test_score', 'std_test_score', 'rank_test_score']].head()"
   ]
  },
  {
   "cell_type": "code",
   "execution_count": 14,
   "metadata": {},
   "outputs": [
    {
     "data": {
      "text/plain": [
       "0.756896551724138"
      ]
     },
     "execution_count": 14,
     "metadata": {},
     "output_type": "execute_result"
    }
   ],
   "source": [
    "# evaluating the model\n",
    "gs.best_score_"
   ]
  },
  {
   "cell_type": "code",
   "execution_count": 15,
   "metadata": {},
   "outputs": [
    {
     "data": {
      "text/plain": [
       "{'kneighborsclassifier__metric': 'manhattan',\n",
       " 'kneighborsclassifier__n_neighbors': 19,\n",
       " 'kneighborsclassifier__weights': 'distance',\n",
       " 'selectkbest__k': 5}"
      ]
     },
     "execution_count": 15,
     "metadata": {},
     "output_type": "execute_result"
    }
   ],
   "source": [
    "#checking the selected permutation of parameters \n",
    "gs.best_params_"
   ]
  },
  {
   "cell_type": "code",
   "execution_count": null,
   "metadata": {},
   "outputs": [],
   "source": []
  },
  {
   "cell_type": "markdown",
   "metadata": {},
   "source": [
    "#### Predict target values"
   ]
  },
  {
   "cell_type": "code",
   "execution_count": 18,
   "metadata": {},
   "outputs": [
    {
     "data": {
      "text/plain": [
       "<matplotlib.collections.PathCollection at 0x15beda45d00>"
      ]
     },
     "execution_count": 18,
     "metadata": {},
     "output_type": "execute_result"
    },
    {
     "data": {
      "image/png": "[encoded data removed]",
      "text/plain": [
       "<Figure size 432x288 with 1 Axes>"
      ]
     },
     "metadata": {
      "needs_background": "light"
     },
     "output_type": "display_data"
    }
   ],
   "source": [
    "#checking how well the model does on the holdout-set \n",
    "gs.score(features_test,labels_test)\n",
    "#plotting predicted body weights vs actual body weights of penguins \n",
    "labels_preds=gs.predict(features_test) \n",
    "plt.scatter(labels_test,labels_preds)"
   ]
  },
  {
   "cell_type": "code",
   "execution_count": null,
   "metadata": {},
   "outputs": [],
   "source": []
  },
  {
   "cell_type": "markdown",
   "metadata": {},
   "source": [
    "### Perform pipeline - Logistic"
   ]
  },
  {
   "cell_type": "markdown",
   "metadata": {},
   "source": [
    "#### Run pipeling"
   ]
  },
  {
   "cell_type": "code",
   "execution_count": 19,
   "metadata": {},
   "outputs": [],
   "source": [
    "#Setting up a pipeline\n",
    "pipe=make_pipeline(StandardScaler(),SelectKBest(f_regression) ,LogisticRegression())"
   ]
  },
  {
   "cell_type": "code",
   "execution_count": 20,
   "metadata": {},
   "outputs": [
    {
     "data": {
      "text/plain": [
       "dict_keys(['memory', 'steps', 'verbose', 'standardscaler', 'selectkbest', 'logisticregression', 'standardscaler__copy', 'standardscaler__with_mean', 'standardscaler__with_std', 'selectkbest__k', 'selectkbest__score_func', 'logisticregression__C', 'logisticregression__class_weight', 'logisticregression__dual', 'logisticregression__fit_intercept', 'logisticregression__intercept_scaling', 'logisticregression__l1_ratio', 'logisticregression__max_iter', 'logisticregression__multi_class', 'logisticregression__n_jobs', 'logisticregression__penalty', 'logisticregression__random_state', 'logisticregression__solver', 'logisticregression__tol', 'logisticregression__verbose', 'logisticregression__warm_start'])"
      ]
     },
     "execution_count": 20,
     "metadata": {},
     "output_type": "execute_result"
    }
   ],
   "source": [
    "#Looking up parameters that can be passed to the pipeline \n",
    "pipe.get_params().keys()"
   ]
  },
  {
   "cell_type": "code",
   "execution_count": 21,
   "metadata": {
    "scrolled": false
   },
   "outputs": [
    {
     "name": "stdout",
     "output_type": "stream",
     "text": [
      "Fitting 5 folds for each of 720 candidates, totalling 3600 fits\n"
     ]
    },
    {
     "name": "stderr",
     "output_type": "stream",
     "text": [
      "[Parallel(n_jobs=-1)]: Using backend LokyBackend with 16 concurrent workers.\n",
      "[Parallel(n_jobs=-1)]: Done  18 tasks      | elapsed:    0.1s\n",
      "[Parallel(n_jobs=-1)]: Done 800 tasks      | elapsed:    1.6s\n",
      "[Parallel(n_jobs=-1)]: Done 2800 tasks      | elapsed:    4.7s\n",
      "[Parallel(n_jobs=-1)]: Done 3600 out of 3600 | elapsed:    5.5s finished\n"
     ]
    },
    {
     "data": {
      "text/plain": [
       "GridSearchCV(cv=5,\n",
       "             estimator=Pipeline(steps=[('standardscaler', StandardScaler()),\n",
       "                                       ('selectkbest',\n",
       "                                        SelectKBest(score_func=<function f_regression at 0x0000015BECD93DC0>)),\n",
       "                                       ('logisticregression',\n",
       "                                        LogisticRegression())]),\n",
       "             n_jobs=-1,\n",
       "             param_grid={'logisticregression__C': [0.001, 0.01, 0.05, 0.1, 1.0,\n",
       "                                                   100.0],\n",
       "                         'logisticregression__penalty': ['none', 'l1', 'l2',\n",
       "                                                         'elasticnet'],\n",
       "                         'logisticregression__solver': ['liblinear',\n",
       "                                                        'newton-cg', 'lbfgs',\n",
       "                                                        'sag', 'saga'],\n",
       "                         'selectkbest__k': [1, 2, 3, 4, 5, 6]},\n",
       "             verbose=1)"
      ]
     },
     "execution_count": 21,
     "metadata": {},
     "output_type": "execute_result"
    }
   ],
   "source": [
    "#putting together a parameter grid to search over using grid search\n",
    "params={'selectkbest__k':[1,2,3,4,5,6], \n",
    "        'logisticregression__C' : [0.001, 0.01, 0.05, 0.1, 1., 100.], \n",
    "        'logisticregression__penalty' : ['none', 'l1', 'l2', 'elasticnet'], \n",
    "        'logisticregression__solver' : ['liblinear', 'newton-cg', 'lbfgs', 'sag', 'saga']}\n",
    "#setting up the grid search \n",
    "gs=GridSearchCV(pipe,params, verbose=1, n_jobs=-1,cv=5)\n",
    "#fitting gs to training data \n",
    "gs.fit(features_train, labels_train)"
   ]
  },
  {
   "cell_type": "markdown",
   "metadata": {},
   "source": [
    "#### perform cross-validation"
   ]
  },
  {
   "cell_type": "code",
   "execution_count": 22,
   "metadata": {},
   "outputs": [
    {
     "data": {
      "text/html": [
       "<div>\n",
       "<style scoped>\n",
       "    .dataframe tbody tr th:only-of-type {\n",
       "        vertical-align: middle;\n",
       "    }\n",
       "\n",
       "    .dataframe tbody tr th {\n",
       "        vertical-align: top;\n",
       "    }\n",
       "\n",
       "    .dataframe thead th {\n",
       "        text-align: right;\n",
       "    }\n",
       "</style>\n",
       "<table border=\"1\" class=\"dataframe\">\n",
       "  <thead>\n",
       "    <tr style=\"text-align: right;\">\n",
       "      <th></th>\n",
       "      <th>params</th>\n",
       "      <th>split0_test_score</th>\n",
       "      <th>split1_test_score</th>\n",
       "      <th>split2_test_score</th>\n",
       "      <th>split3_test_score</th>\n",
       "      <th>split4_test_score</th>\n",
       "      <th>mean_test_score</th>\n",
       "      <th>std_test_score</th>\n",
       "      <th>rank_test_score</th>\n",
       "    </tr>\n",
       "  </thead>\n",
       "  <tbody>\n",
       "    <tr>\n",
       "      <th>273</th>\n",
       "      <td>{'logisticregression__C': 0.05, 'logisticregre...</td>\n",
       "      <td>0.775862</td>\n",
       "      <td>0.747826</td>\n",
       "      <td>0.756522</td>\n",
       "      <td>0.826087</td>\n",
       "      <td>0.747826</td>\n",
       "      <td>0.770825</td>\n",
       "      <td>0.029468</td>\n",
       "      <td>1</td>\n",
       "    </tr>\n",
       "    <tr>\n",
       "      <th>274</th>\n",
       "      <td>{'logisticregression__C': 0.05, 'logisticregre...</td>\n",
       "      <td>0.767241</td>\n",
       "      <td>0.747826</td>\n",
       "      <td>0.756522</td>\n",
       "      <td>0.826087</td>\n",
       "      <td>0.747826</td>\n",
       "      <td>0.769100</td>\n",
       "      <td>0.029375</td>\n",
       "      <td>2</td>\n",
       "    </tr>\n",
       "    <tr>\n",
       "      <th>272</th>\n",
       "      <td>{'logisticregression__C': 0.05, 'logisticregre...</td>\n",
       "      <td>0.775862</td>\n",
       "      <td>0.739130</td>\n",
       "      <td>0.756522</td>\n",
       "      <td>0.826087</td>\n",
       "      <td>0.747826</td>\n",
       "      <td>0.769085</td>\n",
       "      <td>0.030991</td>\n",
       "      <td>3</td>\n",
       "    </tr>\n",
       "    <tr>\n",
       "      <th>417</th>\n",
       "      <td>{'logisticregression__C': 0.1, 'logisticregres...</td>\n",
       "      <td>0.732759</td>\n",
       "      <td>0.756522</td>\n",
       "      <td>0.765217</td>\n",
       "      <td>0.826087</td>\n",
       "      <td>0.756522</td>\n",
       "      <td>0.767421</td>\n",
       "      <td>0.031259</td>\n",
       "      <td>4</td>\n",
       "    </tr>\n",
       "    <tr>\n",
       "      <th>418</th>\n",
       "      <td>{'logisticregression__C': 0.1, 'logisticregres...</td>\n",
       "      <td>0.750000</td>\n",
       "      <td>0.756522</td>\n",
       "      <td>0.747826</td>\n",
       "      <td>0.826087</td>\n",
       "      <td>0.756522</td>\n",
       "      <td>0.767391</td>\n",
       "      <td>0.029552</td>\n",
       "      <td>5</td>\n",
       "    </tr>\n",
       "  </tbody>\n",
       "</table>\n",
       "</div>"
      ],
      "text/plain": [
       "                                                params  split0_test_score  \\\n",
       "273  {'logisticregression__C': 0.05, 'logisticregre...           0.775862   \n",
       "274  {'logisticregression__C': 0.05, 'logisticregre...           0.767241   \n",
       "272  {'logisticregression__C': 0.05, 'logisticregre...           0.775862   \n",
       "417  {'logisticregression__C': 0.1, 'logisticregres...           0.732759   \n",
       "418  {'logisticregression__C': 0.1, 'logisticregres...           0.750000   \n",
       "\n",
       "     split1_test_score  split2_test_score  split3_test_score  \\\n",
       "273           0.747826           0.756522           0.826087   \n",
       "274           0.747826           0.756522           0.826087   \n",
       "272           0.739130           0.756522           0.826087   \n",
       "417           0.756522           0.765217           0.826087   \n",
       "418           0.756522           0.747826           0.826087   \n",
       "\n",
       "     split4_test_score  mean_test_score  std_test_score  rank_test_score  \n",
       "273           0.747826         0.770825        0.029468                1  \n",
       "274           0.747826         0.769100        0.029375                2  \n",
       "272           0.747826         0.769085        0.030991                3  \n",
       "417           0.756522         0.767421        0.031259                4  \n",
       "418           0.756522         0.767391        0.029552                5  "
      ]
     },
     "execution_count": 22,
     "metadata": {},
     "output_type": "execute_result"
    }
   ],
   "source": [
    "#building a dataframe from cross-validation data \n",
    "df_cv_scores=pd.DataFrame(gs.cv_results_).sort_values(by='rank_test_score')\n",
    "#selecting specific columns to create a view \n",
    "df_cv_scores[['params','split0_test_score', \n",
    "              'split1_test_score', 'split2_test_score',\n",
    "              'split3_test_score', 'split4_test_score',\n",
    "              'mean_test_score', 'std_test_score', 'rank_test_score']].head()"
   ]
  },
  {
   "cell_type": "code",
   "execution_count": 23,
   "metadata": {},
   "outputs": [
    {
     "data": {
      "text/plain": [
       "0.7708245877061469"
      ]
     },
     "execution_count": 23,
     "metadata": {},
     "output_type": "execute_result"
    }
   ],
   "source": [
    "# evaluating the model\n",
    "gs.best_score_"
   ]
  },
  {
   "cell_type": "code",
   "execution_count": 24,
   "metadata": {},
   "outputs": [
    {
     "data": {
      "text/plain": [
       "{'logisticregression__C': 0.05,\n",
       " 'logisticregression__penalty': 'l1',\n",
       " 'logisticregression__solver': 'liblinear',\n",
       " 'selectkbest__k': 4}"
      ]
     },
     "execution_count": 24,
     "metadata": {},
     "output_type": "execute_result"
    }
   ],
   "source": [
    "#checking the selected permutation of parameters \n",
    "gs.best_params_"
   ]
  },
  {
   "cell_type": "markdown",
   "metadata": {},
   "source": [
    "#### Predict target values"
   ]
  },
  {
   "cell_type": "code",
   "execution_count": 25,
   "metadata": {},
   "outputs": [
    {
     "data": {
      "image/png": "[encoded data removed]",
      "text/plain": [
       "<Figure size 432x288 with 1 Axes>"
      ]
     },
     "metadata": {
      "needs_background": "light"
     },
     "output_type": "display_data"
    }
   ],
   "source": [
    "#checking how well the model does on the holdout-set \n",
    "gs.score(features_test,labels_test)\n",
    "#plotting predicted body weights vs actual body weights of penguins \n",
    "labels_preds=gs.predict(features_test) \n",
    "plt.scatter(labels_test,labels_preds);"
   ]
  },
  {
   "cell_type": "code",
   "execution_count": null,
   "metadata": {},
   "outputs": [],
   "source": []
  },
  {
   "cell_type": "markdown",
   "metadata": {},
   "source": [
    "### Comparing kNN to Logistic"
   ]
  },
  {
   "cell_type": "code",
   "execution_count": 26,
   "metadata": {},
   "outputs": [],
   "source": [
    "models = {\n",
    "    'KNN': KNeighborsClassifier(),\n",
    "    'LogisticRegression': LogisticRegression()\n",
    "}"
   ]
  },
  {
   "cell_type": "code",
   "execution_count": 27,
   "metadata": {
    "scrolled": true
   },
   "outputs": [],
   "source": [
    "params={'KNN': {'selectkbest__k':[1,2,3,4,5,6],\n",
    "                'kneighborsclassifier__n_neighbors' : [3,5,7,9,11,13,15,17,19],\n",
    "                'kneighborsclassifier__weights' : ['uniform', 'distance'],\n",
    "                'kneighborsclassifier__metric' : ['euclidian', 'manhattan']\n",
    "                                 },\n",
    "        'LogisticRegression': {'selectkbest__k':[1,2,3,4,5,6], \n",
    "                               'logisticregression__C' : [0.001, 0.01, 0.05, 0.1, 1., 100.], \n",
    "                               'logisticregression__penalty' : ['none', 'l1', 'l2', 'elasticnet'], \n",
    "                               'logisticregression__solver' : ['liblinear', 'newton-cg', 'lbfgs', 'sag', 'saga']\n",
    "                              }\n",
    "       }"
   ]
  },
  {
   "cell_type": "code",
   "execution_count": 28,
   "metadata": {},
   "outputs": [
    {
     "name": "stdout",
     "output_type": "stream",
     "text": [
      "------KNN------\n",
      "Best score: 0.756896551724138\n",
      "Best parameters are: {'kneighborsclassifier__metric': 'manhattan', 'kneighborsclassifier__n_neighbors': 19, 'kneighborsclassifier__weights': 'distance', 'selectkbest__k': 5}\n",
      "------LogisticRegression------\n",
      "Best score: 0.7708245877061469\n",
      "Best parameters are: {'logisticregression__C': 0.05, 'logisticregression__penalty': 'l1', 'logisticregression__solver': 'liblinear', 'selectkbest__k': 4}\n"
     ]
    }
   ],
   "source": [
    "for name in models.keys():\n",
    "    est = models[name]\n",
    "    est_params = params[name]\n",
    "    pipe = make_pipeline(StandardScaler(),SelectKBest(f_regression) ,est)\n",
    "    gs = GridSearchCV(pipe, param_grid=est_params, verbose=0, n_jobs=-1, cv=5)\n",
    "    gs.fit(features_train, labels_train)\n",
    "    print(f\"------{name}------\")\n",
    "    print(f\"Best score: {gs.best_score_}\")\n",
    "    print(f\"Best parameters are: {gs.best_params_}\")"
   ]
  },
  {
   "cell_type": "code",
   "execution_count": null,
   "metadata": {},
   "outputs": [],
   "source": []
  }
 ],
 "metadata": {
  "kernelspec": {
   "display_name": "Python 3",
   "language": "python",
   "name": "python3"
  },
  "language_info": {
   "codemirror_mode": {
    "name": "ipython",
    "version": 3
   },
   "file_extension": ".py",
   "mimetype": "text/x-python",
   "name": "python",
   "nbconvert_exporter": "python",
   "pygments_lexer": "ipython3",
   "version": "3.8.10"
  },
  "varInspector": {
   "cols": {
    "lenName": 16,
    "lenType": 16,
    "lenVar": 40
   },
   "kernels_config": {
    "python": {
     "delete_cmd_postfix": "",
     "delete_cmd_prefix": "del ",
     "library": "var_list.py",
     "varRefreshCmd": "print(var_dic_list())"
    },
    "r": {
     "delete_cmd_postfix": ") ",
     "delete_cmd_prefix": "rm(",
     "library": "var_list.r",
     "varRefreshCmd": "cat(var_dic_list()) "
    }
   },
   "types_to_exclude": [
    "module",
    "function",
    "builtin_function_or_method",
    "instance",
    "_Feature"
   ],
   "window_display": false
  }
 },
 "nbformat": 4,
 "nbformat_minor": 4
}
